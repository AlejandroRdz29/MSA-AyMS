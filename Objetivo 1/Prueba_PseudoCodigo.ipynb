{
 "cells": [
  {
   "cell_type": "code",
   "execution_count": 25,
   "metadata": {},
   "outputs": [],
   "source": [
    "# Importación de librerias\n",
    "import random"
   ]
  },
  {
   "cell_type": "code",
   "execution_count": 26,
   "metadata": {},
   "outputs": [],
   "source": [
    "# Funciones externas\n",
    "# Función para calcular el puntaje de aptitud (fitness) de un alineamiento\n",
    "# Nota: Falta agregar la regla de que si existe una columna de GAP'S el algoritmo debe de eliminarla, pienso que implementarla sería\n",
    "# bueno en este proceso.\n",
    "def calcular_fitness(alineamiento):\n",
    "    score = 0\n",
    "    for i in range(len(alineamiento[0])):\n",
    "        if alineamiento[0][i] == alineamiento[1][i]:  # Coincidencia\n",
    "            score += 1\n",
    "        elif alineamiento[0][i] == '-' or alineamiento[1][i] == '-':  # Gap\n",
    "            score -= 2\n",
    "        else:  # Desajuste\n",
    "            score -= 1\n",
    "    return score\n",
    "\n",
    "# Función para generar alineamientos aleatorios\n",
    "def generar_alineamiento_random(seq1, seq2):\n",
    "    alineamiento = ['', '']\n",
    "    for i in range(len(seq1)):\n",
    "        if random.random() < 0.5:  # Probabilidad de insertar gap\n",
    "            alineamiento[0] += '-'\n",
    "            alineamiento[1] += seq2[i]\n",
    "        else:\n",
    "            alineamiento[0] += seq1[i]\n",
    "            alineamiento[1] += seq2[i]\n",
    "    return alineamiento\n",
    "\n",
    "# Función para realizar el cruzamiento entre dos alineamientos\n",
    "def cruce(padre1, padre2):\n",
    "    punto_cruce = random.randint(0, len(padre1[0]))\n",
    "    hijo1 = [padre1[0][:punto_cruce] + padre2[0][punto_cruce:], \n",
    "              padre1[1][:punto_cruce] + padre2[1][punto_cruce:]]\n",
    "    hijo2 = [padre2[0][:punto_cruce] + padre1[0][punto_cruce:], \n",
    "              padre2[1][:punto_cruce] + padre1[1][punto_cruce:]]\n",
    "    return hijo1, hijo2\n",
    "\n",
    "# Función para aplicar mutación a un alineamiento\n",
    "def mutacion(alineamiento, rate_mutacion):\n",
    "    mutacion_alineamiento = ['', '']\n",
    "    for i in range(len(alineamiento[0])):\n",
    "        if random.random() < rate_mutacion:\n",
    "            # Introducir una mutación aleatoria (cambio de carácter o inserción de gap)\n",
    "            if random.random() < 0.5:\n",
    "                mutacion_alineamiento[0] += '-'\n",
    "                mutacion_alineamiento[1] += alineamiento[1][i]\n",
    "            else:\n",
    "                mutacion_alineamiento[0] += alineamiento[0][i]\n",
    "                mutacion_alineamiento[1] += '-'\n",
    "        else:\n",
    "            mutacion_alineamiento[0] += alineamiento[0][i]\n",
    "            mutacion_alineamiento[1] += alineamiento[1][i]\n",
    "    return mutacion_alineamiento"
   ]
  },
  {
   "cell_type": "code",
   "execution_count": 27,
   "metadata": {},
   "outputs": [
    {
     "ename": "ValueError",
     "evalue": "Total of weights must be greater than zero",
     "output_type": "error",
     "traceback": [
      "\u001b[1;31m---------------------------------------------------------------------------\u001b[0m",
      "\u001b[1;31mValueError\u001b[0m                                Traceback (most recent call last)",
      "Cell \u001b[1;32mIn[27], line 20\u001b[0m\n\u001b[0;32m     15\u001b[0m score_fitness \u001b[39m=\u001b[39m [calcular_fitness(alineamiento) \u001b[39mfor\u001b[39;00m alineamiento \u001b[39min\u001b[39;00m poblacion]\n\u001b[0;32m     17\u001b[0m \u001b[39m# Selección de padres\u001b[39;00m\n\u001b[0;32m     18\u001b[0m \u001b[39m# Existe un error aqui, el error es que el programa no puede continuar debido a que el metodo choices no puede seleccionar frases cuya suma de pesos sea menor\u001b[39;00m\n\u001b[0;32m     19\u001b[0m \u001b[39m# a 0 eso significa que la alineación produce una score negativa\u001b[39;00m\n\u001b[1;32m---> 20\u001b[0m selected_padres \u001b[39m=\u001b[39m random\u001b[39m.\u001b[39;49mchoices(poblacion, weights\u001b[39m=\u001b[39;49mscore_fitness, k\u001b[39m=\u001b[39;49m\u001b[39m2\u001b[39;49m)\n\u001b[0;32m     22\u001b[0m \u001b[39m# Cruzamiento\u001b[39;00m\n\u001b[0;32m     23\u001b[0m hijo1, hijo2 \u001b[39m=\u001b[39m cruce(selected_padres[\u001b[39m0\u001b[39m], selected_padres[\u001b[39m1\u001b[39m])\n",
      "File \u001b[1;32mC:\\Program Files\\WindowsApps\\PythonSoftwareFoundation.Python.3.11_3.11.2288.0_x64__qbz5n2kfra8p0\\Lib\\random.py:509\u001b[0m, in \u001b[0;36mRandom.choices\u001b[1;34m(self, population, weights, cum_weights, k)\u001b[0m\n\u001b[0;32m    507\u001b[0m total \u001b[39m=\u001b[39m cum_weights[\u001b[39m-\u001b[39m\u001b[39m1\u001b[39m] \u001b[39m+\u001b[39m \u001b[39m0.0\u001b[39m   \u001b[39m# convert to float\u001b[39;00m\n\u001b[0;32m    508\u001b[0m \u001b[39mif\u001b[39;00m total \u001b[39m<\u001b[39m\u001b[39m=\u001b[39m \u001b[39m0.0\u001b[39m:\n\u001b[1;32m--> 509\u001b[0m     \u001b[39mraise\u001b[39;00m \u001b[39mValueError\u001b[39;00m(\u001b[39m'\u001b[39m\u001b[39mTotal of weights must be greater than zero\u001b[39m\u001b[39m'\u001b[39m)\n\u001b[0;32m    510\u001b[0m \u001b[39mif\u001b[39;00m \u001b[39mnot\u001b[39;00m _isfinite(total):\n\u001b[0;32m    511\u001b[0m     \u001b[39mraise\u001b[39;00m \u001b[39mValueError\u001b[39;00m(\u001b[39m'\u001b[39m\u001b[39mTotal of weights must be finite\u001b[39m\u001b[39m'\u001b[39m)\n",
      "\u001b[1;31mValueError\u001b[0m: Total of weights must be greater than zero"
     ]
    }
   ],
   "source": [
    "# Trama principal\n",
    "# Parámetros de entrada\n",
    "secuencia1 = \"PEDRIOIBAACOMPRARVERDURAS\"\n",
    "secuencia2 = \"PEDRITOIBAACOMPRARFRUTAS-\"\n",
    "pob_tam = 10\n",
    "rate_mutacion = 0.1\n",
    "generaciones = 100\n",
    "\n",
    "# Inicialización de la población\n",
    "poblacion = [generar_alineamiento_random(secuencia1, secuencia2) for _ in range(pob_tam)]\n",
    "\n",
    "# Ciclo principal de SAGA\n",
    "for generation in range(generaciones):\n",
    "    # Calcular el puntaje de aptitud de cada alineamiento\n",
    "    score_fitness = [calcular_fitness(alineamiento) for alineamiento in poblacion]\n",
    "    \n",
    "    # Selección de padres\n",
    "    # Existe un error aqui, el error es que el programa no puede continuar debido a que el metodo choices no puede seleccionar frases cuya suma de pesos sea menor\n",
    "    # a 0 eso significa que la alineación produce una score negativa.\n",
    "    selected_padres = random.choices(poblacion, weights=score_fitness, k=2)\n",
    "    \n",
    "    # Cruzamiento\n",
    "    hijo1, hijo2 = cruce(selected_padres[0], selected_padres[1])\n",
    "    \n",
    "    # Mutación\n",
    "    hijo1 = mutacion(hijo1, rate_mutacion)\n",
    "    hijo2 = mutacion(hijo2, rate_mutacion)\n",
    "    \n",
    "    # Reemplazar los alineamientos menos aptos con los nuevos hijos\n",
    "    poblacion[score_fitness.index(min(score_fitness))] = hijo1\n",
    "    poblacion[score_fitness.index(min(score_fitness))] = hijo2\n",
    "\n",
    "# Seleccionar el mejor alineamiento de la última generación\n",
    "best_alineamiento = max(poblacion, key=calcular_fitness)\n",
    "print(\"Mejor alineamiento:\", best_alineamiento)\n",
    "print(\"Puntaje de aptitud:\", calcular_fitness(best_alineamiento))\n"
   ]
  }
 ],
 "metadata": {
  "kernelspec": {
   "display_name": "Python 3",
   "language": "python",
   "name": "python3"
  },
  "language_info": {
   "codemirror_mode": {
    "name": "ipython",
    "version": 3
   },
   "file_extension": ".py",
   "mimetype": "text/x-python",
   "name": "python",
   "nbconvert_exporter": "python",
   "pygments_lexer": "ipython3",
   "version": "3.11.8"
  },
  "orig_nbformat": 4
 },
 "nbformat": 4,
 "nbformat_minor": 2
}
